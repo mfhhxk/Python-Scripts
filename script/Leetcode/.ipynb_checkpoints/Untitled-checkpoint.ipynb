{
 "cells": [
  {
   "cell_type": "markdown",
   "id": "342d4a1e",
   "metadata": {},
   "source": [
    "# Leetcode\n",
    "Github Lesson  \n",
    "<https://github.com/jwasham/coding-interview-university>\n"
   ]
  },
  {
   "cell_type": "markdown",
   "id": "8bd6cad6",
   "metadata": {},
   "source": [
    "## Easy\n",
    "### <span class=\"burk\">Problem 1: Two Sum Problem</span>\n",
    ">Given an array of integers nums and an integer target, return indices of the two numbers such that they add up to target.\n",
    "\n",
    ">You may assume that each input would have exactly one solution, and you may not use the same element twice.\n",
    "\n",
    ">You can return the answer in any order.\n",
    "\n",
    ">Example:  \n",
    "Input: nums = [2,7,11,15], target = 9  \n",
    "Output: [0,1]  \n",
    "Explanation: Because nums[0] + nums[1] == 9, we return [0, 1]."
   ]
  },
  {
   "cell_type": "code",
   "execution_count": 1,
   "id": "9d80a9bc",
   "metadata": {},
   "outputs": [],
   "source": [
    "from typing import List\n",
    "class Solution:\n",
    "    def twoSum(self, nums: List[int], target: int) -> List[int]:\n",
    "        values = {}  # create a dictionary\n",
    "        for idx, value in enumerate(nums):  # enumerate = [(idx,'key'),(),()]\n",
    "            if target - value in values:\n",
    "                return [values[target - value], idx]\n",
    "            else:\n",
    "                values[value] = idx"
   ]
  },
  {
   "cell_type": "code",
   "execution_count": 2,
   "id": "e56857cb",
   "metadata": {},
   "outputs": [
    {
     "data": {
      "text/plain": [
       "[1, 2]"
      ]
     },
     "execution_count": 2,
     "metadata": {},
     "output_type": "execute_result"
    }
   ],
   "source": [
    "Solution.twoSum(1,nums=[1,1,2,2,7,11],target=3)"
   ]
  },
  {
   "cell_type": "markdown",
   "id": "73671d8f",
   "metadata": {},
   "source": [
    "### <span class=\"burk\">Problem 9: Palindrome Number</span>\n",
    ">Given an integer x, return true if x is palindrome integer.  \n",
    "An integer is a palindrome when it reads the same backward as forward.\n",
    "\n",
    ">For example, 121 is a palindrome while 123 is not."
   ]
  },
  {
   "cell_type": "markdown",
   "id": "fca5ee16",
   "metadata": {},
   "source": [
    "Method 1"
   ]
  },
  {
   "cell_type": "code",
   "execution_count": 9,
   "id": "c1bc3578",
   "metadata": {},
   "outputs": [],
   "source": [
    "class Solution:\n",
    "    def isPalindrome1(self, x: int) -> bool:\n",
    "        x = str(x)\n",
    "        if (x == x[::-1]):    # ::-1 = reverse x with -1 || 3::-1 reverse -1 from index = 3\n",
    "            return True\n",
    "        return False     "
   ]
  },
  {
   "cell_type": "code",
   "execution_count": 10,
   "id": "98c4dd7b",
   "metadata": {},
   "outputs": [
    {
     "data": {
      "text/plain": [
       "True"
      ]
     },
     "execution_count": 10,
     "metadata": {},
     "output_type": "execute_result"
    }
   ],
   "source": [
    "Solution.isPalindrome1(1,x=121)"
   ]
  },
  {
   "cell_type": "markdown",
   "id": "c376da5c",
   "metadata": {},
   "source": [
    "Not possible to use `len()` for `int`"
   ]
  },
  {
   "cell_type": "markdown",
   "id": "e6f24c1e",
   "metadata": {},
   "source": [
    "Method 2"
   ]
  },
  {
   "cell_type": "code",
   "execution_count": 6,
   "id": "9f4a9b8f",
   "metadata": {},
   "outputs": [],
   "source": [
    "class Solution:\n",
    "    def isPalindrome(self, x):\n",
    "        if x < 0:\n",
    "            return False\n",
    "        ls = len(str(x))\n",
    "        tmp = x\n",
    "        for i in range(int(ls/2)):\n",
    "            right = int(tmp % 10)\n",
    "            left = tmp / (10 ** (ls - 2 * i - 1))\n",
    "            left = int(left % 10)\n",
    "            if left != right:\n",
    "                return False\n",
    "            tmp = tmp // 10\n",
    "            return True"
   ]
  },
  {
   "cell_type": "code",
   "execution_count": 8,
   "id": "2d517d23",
   "metadata": {},
   "outputs": [
    {
     "data": {
      "text/plain": [
       "False"
      ]
     },
     "execution_count": 8,
     "metadata": {},
     "output_type": "execute_result"
    }
   ],
   "source": [
    "Solution.isPalindrome(2,122)"
   ]
  },
  {
   "cell_type": "code",
   "execution_count": 68,
   "id": "7ca4205d",
   "metadata": {},
   "outputs": [],
   "source": [
    "class Solution:\n",
    "    def isPalindrome2(self, x: int) -> bool:\n",
    "        rev_x = 0\n",
    "        temp = x  # make a copy of x and manipulate x\n",
    "        if x < 0:\n",
    "            return False\n",
    "\n",
    "        while x != 0:\n",
    "            remainder = x % 10\n",
    "            rev_x = rev_x * 10 + remainder\n",
    "            x = x // 10\n",
    "\n",
    "        if (rev_x == temp):  # compare rev against copy of x (the ori value)\n",
    "            return True\n",
    "        return False"
   ]
  },
  {
   "cell_type": "code",
   "execution_count": 69,
   "id": "54b63bd3",
   "metadata": {},
   "outputs": [
    {
     "data": {
      "text/plain": [
       "True"
      ]
     },
     "execution_count": 69,
     "metadata": {},
     "output_type": "execute_result"
    }
   ],
   "source": [
    "Solution.isPalindrome2(2,x=121)"
   ]
  },
  {
   "cell_type": "code",
   "execution_count": null,
   "id": "6bf43b6b",
   "metadata": {},
   "outputs": [],
   "source": []
  },
  {
   "cell_type": "code",
   "execution_count": null,
   "id": "37a4189c",
   "metadata": {},
   "outputs": [],
   "source": []
  }
 ],
 "metadata": {
  "kernelspec": {
   "display_name": "Python 3",
   "language": "python",
   "name": "python3"
  },
  "language_info": {
   "codemirror_mode": {
    "name": "ipython",
    "version": 3
   },
   "file_extension": ".py",
   "mimetype": "text/x-python",
   "name": "python",
   "nbconvert_exporter": "python",
   "pygments_lexer": "ipython3",
   "version": "3.8.8"
  },
  "toc": {
   "base_numbering": 1,
   "nav_menu": {},
   "number_sections": true,
   "sideBar": true,
   "skip_h1_title": false,
   "title_cell": "Table of Contents",
   "title_sidebar": "Contents",
   "toc_cell": false,
   "toc_position": {},
   "toc_section_display": true,
   "toc_window_display": false
  },
  "varInspector": {
   "cols": {
    "lenName": 16,
    "lenType": 16,
    "lenVar": 40
   },
   "kernels_config": {
    "python": {
     "delete_cmd_postfix": "",
     "delete_cmd_prefix": "del ",
     "library": "var_list.py",
     "varRefreshCmd": "print(var_dic_list())"
    },
    "r": {
     "delete_cmd_postfix": ") ",
     "delete_cmd_prefix": "rm(",
     "library": "var_list.r",
     "varRefreshCmd": "cat(var_dic_list()) "
    }
   },
   "types_to_exclude": [
    "module",
    "function",
    "builtin_function_or_method",
    "instance",
    "_Feature"
   ],
   "window_display": false
  }
 },
 "nbformat": 4,
 "nbformat_minor": 5
}
