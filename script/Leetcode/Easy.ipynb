{
 "cells": [
  {
   "cell_type": "markdown",
   "id": "6c764181",
   "metadata": {
    "toc": true
   },
   "source": [
    "<h1>Table of Contents<span class=\"tocSkip\"></span></h1>\n",
    "<div class=\"toc\"><ul class=\"toc-item\"><li><span><a href=\"#Problem-1:-Two-Sum-Problem\" data-toc-modified-id=\"Problem-1:-Two-Sum-Problem-1\"><span class=\"toc-item-num\">1&nbsp;&nbsp;</span><span style=\"color: forestgreen\">Problem 1: Two Sum Problem</span></a></span><ul class=\"toc-item\"><li><span><a href=\"#T-=-O(1)-,-S-=-O(n)\" data-toc-modified-id=\"T-=-O(1)-,-S-=-O(n)-1.1\"><span class=\"toc-item-num\">1.1&nbsp;&nbsp;</span>T = O(1) , S = O(n)</a></span></li></ul></li><li><span><a href=\"#Problem-9:-Palindrome-Number\" data-toc-modified-id=\"Problem-9:-Palindrome-Number-2\"><span class=\"toc-item-num\">2&nbsp;&nbsp;</span><span style=\"color: forestgreen\">Problem 9: Palindrome Number</span></a></span><ul class=\"toc-item\"><li><span><a href=\"#T-=-O(1)-,-S-=-O(1)\" data-toc-modified-id=\"T-=-O(1)-,-S-=-O(1)-2.1\"><span class=\"toc-item-num\">2.1&nbsp;&nbsp;</span>T = O(1) , S = O(1)</a></span></li><li><span><a href=\"#T-=-O(1)-,-S-=-O(1)\" data-toc-modified-id=\"T-=-O(1)-,-S-=-O(1)-2.2\"><span class=\"toc-item-num\">2.2&nbsp;&nbsp;</span>T = O(1) , S = O(1)</a></span></li></ul></li><li><span><a href=\"#Problem-13:-Roman-to-Integer\" data-toc-modified-id=\"Problem-13:-Roman-to-Integer-3\"><span class=\"toc-item-num\">3&nbsp;&nbsp;</span><span style=\"color: forestgreen\">Problem 13: Roman to Integer</span></a></span><ul class=\"toc-item\"><li><span><a href=\"#T-=-O(n^2)-,-S-=-O(1)\" data-toc-modified-id=\"T-=-O(n^2)-,-S-=-O(1)-3.1\"><span class=\"toc-item-num\">3.1&nbsp;&nbsp;</span>T = O(n^2) , S = O(1)</a></span><ul class=\"toc-item\"><li><span><a href=\"#Explaination\" data-toc-modified-id=\"Explaination-3.1.1\"><span class=\"toc-item-num\">3.1.1&nbsp;&nbsp;</span>Explaination</a></span></li></ul></li><li><span><a href=\"#T-=-O(n)-,-S-=-O(1)\" data-toc-modified-id=\"T-=-O(n)-,-S-=-O(1)-3.2\"><span class=\"toc-item-num\">3.2&nbsp;&nbsp;</span>T = O(n) , S = O(1)</a></span><ul class=\"toc-item\"><li><span><a href=\"#Explanation\" data-toc-modified-id=\"Explanation-3.2.1\"><span class=\"toc-item-num\">3.2.1&nbsp;&nbsp;</span>Explanation</a></span></li></ul></li></ul></li><li><span><a href=\"#Problem-14:-Longest-Common-Prefix\" data-toc-modified-id=\"Problem-14:-Longest-Common-Prefix-4\"><span class=\"toc-item-num\">4&nbsp;&nbsp;</span><span style=\"color: forestgreen\">Problem 14: Longest Common Prefix</span></a></span><ul class=\"toc-item\"><li><span><a href=\"#T-=-O(n)-,-S-=-O(1)\" data-toc-modified-id=\"T-=-O(n)-,-S-=-O(1)-4.1\"><span class=\"toc-item-num\">4.1&nbsp;&nbsp;</span>T = O(n) , S = O(1)</a></span><ul class=\"toc-item\"><li><span><a href=\"#Explanation\" data-toc-modified-id=\"Explanation-4.1.1\"><span class=\"toc-item-num\">4.1.1&nbsp;&nbsp;</span>Explanation</a></span></li></ul></li></ul></li><li><span><a href=\"#Problem-20:-Valid-Parentheses\" data-toc-modified-id=\"Problem-20:-Valid-Parentheses-5\"><span class=\"toc-item-num\">5&nbsp;&nbsp;</span><span style=\"color: forestgreen\">Problem 20: Valid Parentheses</span></a></span><ul class=\"toc-item\"><li><span><a href=\"#T-=-O(1)-,-S-=-O(n)\" data-toc-modified-id=\"T-=-O(1)-,-S-=-O(n)-5.1\"><span class=\"toc-item-num\">5.1&nbsp;&nbsp;</span>T = O(1) , S = O(n)</a></span><ul class=\"toc-item\"><li><span><a href=\"#Explanation\" data-toc-modified-id=\"Explanation-5.1.1\"><span class=\"toc-item-num\">5.1.1&nbsp;&nbsp;</span>Explanation</a></span></li></ul></li><li><span><a href=\"#T-=-O(n)-,-S-=-O(1)\" data-toc-modified-id=\"T-=-O(n)-,-S-=-O(1)-5.2\"><span class=\"toc-item-num\">5.2&nbsp;&nbsp;</span>T = O(n) , S = O(1)</a></span></li></ul></li><li><span><a href=\"#*Problem-21:--Merge-Two-Sorted-Lists\" data-toc-modified-id=\"*Problem-21:--Merge-Two-Sorted-Lists-6\"><span class=\"toc-item-num\">6&nbsp;&nbsp;</span><span class=\"mark\">*Problem 21:  Merge Two Sorted Lists</span></a></span><ul class=\"toc-item\"><li><span><a href=\"#T-=-O(1)-,-S-=-O(n)\" data-toc-modified-id=\"T-=-O(1)-,-S-=-O(n)-6.1\"><span class=\"toc-item-num\">6.1&nbsp;&nbsp;</span>T = O(1) , S = O(n)</a></span></li><li><span><a href=\"#T-=-O(n)-,-S-=-O(n)\" data-toc-modified-id=\"T-=-O(n)-,-S-=-O(n)-6.2\"><span class=\"toc-item-num\">6.2&nbsp;&nbsp;</span>T = O(n) , S = O(n)</a></span></li></ul></li><li><span><a href=\"#Problem-26:-Remove-Duplicates-From-Sorted-Arrays\" data-toc-modified-id=\"Problem-26:-Remove-Duplicates-From-Sorted-Arrays-7\"><span class=\"toc-item-num\">7&nbsp;&nbsp;</span><span style=\"color: forestgreen\">Problem 26: Remove Duplicates From Sorted Arrays</span></a></span><ul class=\"toc-item\"><li><span><a href=\"#T-=-O(n)-,-S-=-O(n)\" data-toc-modified-id=\"T-=-O(n)-,-S-=-O(n)-7.1\"><span class=\"toc-item-num\">7.1&nbsp;&nbsp;</span>T = O(n) , S = O(n)</a></span></li></ul></li><li><span><a href=\"#Problem-27:-Remove-Element\" data-toc-modified-id=\"Problem-27:-Remove-Element-8\"><span class=\"toc-item-num\">8&nbsp;&nbsp;</span><span style=\"color: forestgreen\">Problem 27: Remove Element</span></a></span><ul class=\"toc-item\"><li><span><a href=\"#T-=-O(n)-,-S-=-O(n)\" data-toc-modified-id=\"T-=-O(n)-,-S-=-O(n)-8.1\"><span class=\"toc-item-num\">8.1&nbsp;&nbsp;</span>T = O(n) , S = O(n)</a></span><ul class=\"toc-item\"><li><span><a href=\"#Explanation:\" data-toc-modified-id=\"Explanation:-8.1.1\"><span class=\"toc-item-num\">8.1.1&nbsp;&nbsp;</span>Explanation:</a></span></li></ul></li></ul></li><li><span><a href=\"#Problem-28-:-Inplement-strStr()\" data-toc-modified-id=\"Problem-28-:-Inplement-strStr()-9\"><span class=\"toc-item-num\">9&nbsp;&nbsp;</span><span style=\"color: forestgreen\">Problem 28 : Inplement strStr()</span></a></span><ul class=\"toc-item\"><li><span><a href=\"#T-=-O(n)-,-S-=-O(1)\" data-toc-modified-id=\"T-=-O(n)-,-S-=-O(1)-9.1\"><span class=\"toc-item-num\">9.1&nbsp;&nbsp;</span>T = O(n) , S = O(1)</a></span><ul class=\"toc-item\"><li><span><a href=\"#Explanation:\" data-toc-modified-id=\"Explanation:-9.1.1\"><span class=\"toc-item-num\">9.1.1&nbsp;&nbsp;</span>Explanation:</a></span></li></ul></li></ul></li><li><span><a href=\"#Problem-35:-Search-Insert-Position\" data-toc-modified-id=\"Problem-35:-Search-Insert-Position-10\"><span class=\"toc-item-num\">10&nbsp;&nbsp;</span><span style=\"color: forestgreen\">Problem 35: Search Insert Position</span></a></span><ul class=\"toc-item\"><li><span><a href=\"#T-=-O(log-n)-,-S-=-O(log-n)\" data-toc-modified-id=\"T-=-O(log-n)-,-S-=-O(log-n)-10.1\"><span class=\"toc-item-num\">10.1&nbsp;&nbsp;</span>T = O(log n) , S = O(log n)</a></span><ul class=\"toc-item\"><li><span><a href=\"#Explanation\" data-toc-modified-id=\"Explanation-10.1.1\"><span class=\"toc-item-num\">10.1.1&nbsp;&nbsp;</span>Explanation</a></span></li></ul></li></ul></li><li><span><a href=\"#58:-Length-of-Last-Word-\" data-toc-modified-id=\"58:-Length-of-Last-Word--11\"><span class=\"toc-item-num\">11&nbsp;&nbsp;</span>58:<span style=\"color: forestgreen\"> Length of Last Word </span></a></span><ul class=\"toc-item\"><li><span><a href=\"#T-=-O(1)-,-S-=-O(n)\" data-toc-modified-id=\"T-=-O(1)-,-S-=-O(n)-11.1\"><span class=\"toc-item-num\">11.1&nbsp;&nbsp;</span>T = O(1) , S = O(n)</a></span></li></ul></li><li><span><a href=\"#66:-Plus-One-\" data-toc-modified-id=\"66:-Plus-One--12\"><span class=\"toc-item-num\">12&nbsp;&nbsp;</span><span style=\"color: forestgreen\">66: Plus One </span></a></span><ul class=\"toc-item\"><li><span><a href=\"#T-=-O(n)\" data-toc-modified-id=\"T-=-O(n)-12.1\"><span class=\"toc-item-num\">12.1&nbsp;&nbsp;</span>T = O(n)</a></span><ul class=\"toc-item\"><li><span><a href=\"#Explanation:\" data-toc-modified-id=\"Explanation:-12.1.1\"><span class=\"toc-item-num\">12.1.1&nbsp;&nbsp;</span>Explanation:</a></span></li></ul></li></ul></li><li><span><a href=\"#67:-Add-Binary-\" data-toc-modified-id=\"67:-Add-Binary--13\"><span class=\"toc-item-num\">13&nbsp;&nbsp;</span><span style=\"color: forestgreen\">67: Add Binary </span></a></span></li></ul></div>"
   ]
  },
  {
   "cell_type": "markdown",
   "id": "b96b93b9",
   "metadata": {},
   "source": [
    "<font size=\"5.5\"> **Leetcode** </font>  \n",
    "Github Lesson  \n",
    "<https://github.com/jwasham/coding-interview-university>\n",
    "---"
   ]
  },
  {
   "cell_type": "markdown",
   "id": "720b7fc8",
   "metadata": {},
   "source": [
    "# Easy\n",
    "## <span style=\"color:ForestGreen\">Problem 1: Two Sum Problem</span>\n",
    "- **Hash Table**"
   ]
  },
  {
   "cell_type": "markdown",
   "id": "8bd6cad6",
   "metadata": {},
   "source": [
    ">Given an array of integers nums and an integer target, return indices of the two numbers such that they add up to target.\n",
    "\n",
    ">You may assume that each input would have exactly one solution, and you may not use the same element twice.\n",
    "\n",
    ">You can return the answer in any order.\n",
    "\n",
    ">Example:  \n",
    "Input: nums = [2,7,11,15], target = 9  \n",
    "Output: [0,1]  \n",
    "Explanation: Because nums[0] + nums[1] == 9, we return [0, 1]."
   ]
  },
  {
   "cell_type": "markdown",
   "id": "f03da1d0",
   "metadata": {},
   "source": [
    "### T = O(1) , S = O(n)"
   ]
  },
  {
   "cell_type": "code",
   "execution_count": 1,
   "id": "9d80a9bc",
   "metadata": {},
   "outputs": [],
   "source": [
    "from typing import List\n",
    "class Solution:\n",
    "    def twoSum(self, nums: List[int], target: int) -> List[int]:\n",
    "        values = {}  # create a dictionary\n",
    "        for idx, value in enumerate(nums):  # enumerate = [(idx,'key'),(),()]\n",
    "            if target - value in values:\n",
    "                return [values[target - value], idx]\n",
    "            else:\n",
    "                values[value] = idx"
   ]
  },
  {
   "cell_type": "code",
   "execution_count": 2,
   "id": "e56857cb",
   "metadata": {},
   "outputs": [
    {
     "data": {
      "text/plain": [
       "[1, 2]"
      ]
     },
     "execution_count": 2,
     "metadata": {},
     "output_type": "execute_result"
    }
   ],
   "source": [
    "Solution.twoSum(1,nums=[1,1,2,2,7,11],target=3)"
   ]
  },
  {
   "cell_type": "markdown",
   "id": "df390cc8",
   "metadata": {},
   "source": [
    "## <span style=\"color:ForestGreen\">Problem 9: Palindrome Number</span>\n",
    "- **Math**"
   ]
  },
  {
   "cell_type": "markdown",
   "id": "73671d8f",
   "metadata": {},
   "source": [
    ">Given an integer x, return true if x is palindrome integer.  \n",
    "An integer is a palindrome when it reads the same backward as forward.\n",
    "\n",
    ">For example, 121 is a palindrome while 123 is not.\n",
    "\n",
    "Not possible to use `len()` for `int`"
   ]
  },
  {
   "cell_type": "markdown",
   "id": "fca5ee16",
   "metadata": {},
   "source": [
    "### T = O(1) , S = O(1)\n",
    "treat x as string"
   ]
  },
  {
   "cell_type": "code",
   "execution_count": 3,
   "id": "c1bc3578",
   "metadata": {},
   "outputs": [],
   "source": [
    "class Solution:\n",
    "    def isPalindrome1(self, x: int) -> bool:\n",
    "        x = str(x)\n",
    "        if (x == x[::-1]):    # ::-1 = reverse x with -1 || 3::-1 reverse -1 from index = 3\n",
    "            return True\n",
    "        return False     "
   ]
  },
  {
   "cell_type": "code",
   "execution_count": 4,
   "id": "98c4dd7b",
   "metadata": {},
   "outputs": [
    {
     "data": {
      "text/plain": [
       "True"
      ]
     },
     "execution_count": 4,
     "metadata": {},
     "output_type": "execute_result"
    }
   ],
   "source": [
    "Solution.isPalindrome1(1,x=121)"
   ]
  },
  {
   "cell_type": "markdown",
   "id": "e6f24c1e",
   "metadata": {},
   "source": [
    "### T = O(1) , S = O(1)"
   ]
  },
  {
   "cell_type": "code",
   "execution_count": 5,
   "id": "62be3814",
   "metadata": {},
   "outputs": [],
   "source": [
    "class Solution:\n",
    "    def isPalindrome2(self, x: int) -> bool:\n",
    "        rev_x = 0\n",
    "        temp = x  # make a copy of x and manipulate x\n",
    "        if x < 0:\n",
    "            return False\n",
    "\n",
    "        while x != 0:                              # reverse x\n",
    "            remainder = x % 10\n",
    "            rev_x = rev_x * 10 + remainder\n",
    "            x = x // 10\n",
    "\n",
    "        if (rev_x == temp):                        # compare rev against copy of x (the ori value)\n",
    "            return True\n",
    "        return False"
   ]
  },
  {
   "cell_type": "code",
   "execution_count": 6,
   "id": "54b63bd3",
   "metadata": {},
   "outputs": [
    {
     "data": {
      "text/plain": [
       "True"
      ]
     },
     "execution_count": 6,
     "metadata": {},
     "output_type": "execute_result"
    }
   ],
   "source": [
    "Solution.isPalindrome2(2,x=121)"
   ]
  },
  {
   "cell_type": "markdown",
   "id": "a4c82c37",
   "metadata": {},
   "source": [
    "## <span style=\"color:ForestGreen\">Problem 13: Roman to Integer</span>\n",
    "- **Hash table**\n",
    "- **Math**\n",
    "- **String**"
   ]
  },
  {
   "cell_type": "markdown",
   "id": "4aad975e",
   "metadata": {},
   "source": [
    "> Roman numerals are represented by seven different symbols: `I`, `V`, `X`, `L`, `C`, `D` and `M`.\n",
    "\n",
    "|Symbol|Value|\n",
    "|---|---|\n",
    "|I|1|\n",
    "|V|5|\n",
    "|X|10|\n",
    "|L|50|\n",
    "|C|100|\n",
    "|D|500|\n",
    "|M|1000|\n",
    "\n",
    "> For example, `2` is written as `II` in Roman numeral, just two one's added together. `12` is written as `XII`, which is simply `X + II`. The number `27` is written as `XXVII`, which is `XX + V + II`.\n",
    "\n",
    "> Roman numerals are usually written largest to smallest from left to right. However, the numeral for four is not `IIII`. Instead, the number four is written as `IV`. Because the one is before the five we subtract it making four. The same principle applies to the number nine, which is written as `IX`. There are six instances where subtraction is used:\n",
    "\n",
    ">`I` can be placed before `V` (5) and `X` (10) to make `4` and `9`. <br>\n",
    "`X` can be placed before `L` (50) and `C` (100) to make `40` and `90`.  <br>\n",
    "`C` can be placed before `D` (500) and `M` (1000) to make `400` and `900`.  <br>\n",
    "Given a roman numeral, convert it to an integer.  \n",
    "\n",
    ">Example:  \n",
    "Input: s = \"LVIII\"\n",
    "Output: 58\n",
    "Explanation: L = 50, V= 5, III = 3."
   ]
  },
  {
   "cell_type": "markdown",
   "id": "da0dcf14",
   "metadata": {},
   "source": [
    "### T = O(n^2) , S = O(1)"
   ]
  },
  {
   "cell_type": "code",
   "execution_count": 7,
   "id": "cae99990",
   "metadata": {},
   "outputs": [],
   "source": [
    "class Solution:\n",
    "    def romanToInt(self, s: str) -> int:\n",
    "        dict = {'I':1,'V':5,'X':10,'L':50,'C':100,'D':500,'M':1000}\n",
    "        \n",
    "        x = 0\n",
    "        last = s[-1]                                   # last: s in order\n",
    "        for i in reversed(s):                          # reversed s\n",
    "            if i == 'I' and last in ['V','X']:\n",
    "                x -=1\n",
    "                \n",
    "            elif i == 'X' and last in ['L','C']:\n",
    "                x -=10\n",
    "                \n",
    "            elif i == 'C' and last in ['D','M']:\n",
    "                x -=100\n",
    "                \n",
    "            else:\n",
    "                x += dict[i]\n",
    "            last = i\n",
    "            \n",
    "        return x"
   ]
  },
  {
   "cell_type": "code",
   "execution_count": 8,
   "id": "91df2d4b",
   "metadata": {},
   "outputs": [
    {
     "data": {
      "text/plain": [
       "1054"
      ]
     },
     "execution_count": 8,
     "metadata": {},
     "output_type": "execute_result"
    }
   ],
   "source": [
    "Solution.romanToInt(2,s=\"MLIV\")"
   ]
  },
  {
   "cell_type": "markdown",
   "id": "f1821a09",
   "metadata": {},
   "source": [
    "#### Explaination\n",
    "reverserd s = `'VILM'`  \n",
    "\n",
    "Step 1: last = `'V'` , i = 0 = `'V'` , `x += 5`  \n",
    "Step 2: last = `'V'` , i = 1 = `'I'` , `x -= 1`  \n",
    "<br>\n",
    "Step 3: last - `'I'` , i = 2 = `'L'` , `x += 50`  \n",
    "Step 4: last - `'L'` , i = 3 = `'M'` , `x += 1000`"
   ]
  },
  {
   "cell_type": "markdown",
   "id": "c668e534",
   "metadata": {},
   "source": [
    "### T = O(n) , S = O(1)"
   ]
  },
  {
   "cell_type": "code",
   "execution_count": 9,
   "id": "9e08870c",
   "metadata": {},
   "outputs": [],
   "source": [
    "class Solution:\n",
    "    def romanToInt2(self, s: str) -> int:\n",
    "        dict = {'I':1,'V':5,'X':10,'L':50,'C':100,'D':500,'M':1000}\n",
    "        res, prev = 0,0\n",
    "        \n",
    "        for i in s[::-1]:          # rev the s\n",
    "            if dict[i] >= prev:\n",
    "                res += dict[i]     # sum the value iff previous value same or more\n",
    "                \n",
    "            else:\n",
    "                res -= dict[i]     # substract when value is like \"IV\" --> 5-1, \"IX\" --> 10 -1 etc \n",
    "            prev = dict[i]\n",
    "        return res"
   ]
  },
  {
   "cell_type": "code",
   "execution_count": 10,
   "id": "61a189b2",
   "metadata": {},
   "outputs": [
    {
     "data": {
      "text/plain": [
       "154"
      ]
     },
     "execution_count": 10,
     "metadata": {},
     "output_type": "execute_result"
    }
   ],
   "source": [
    "Solution.romanToInt2(2,s='CLIV')"
   ]
  },
  {
   "cell_type": "markdown",
   "id": "d4caa356",
   "metadata": {},
   "source": [
    "#### Explanation\n",
    "`s[::1] = 'VILC'`  \n",
    "\n",
    "Step 1: `'V'` >= prev=0 , `res += 5` , prev = 5  \n",
    "Step 2: `'I'` < prev=5 , `res -= 1` , prev = 1  "
   ]
  },
  {
   "cell_type": "markdown",
   "id": "60241a74",
   "metadata": {},
   "source": [
    "## <span style=\"color:ForestGreen\">Problem 14: Longest Common Prefix</span>\n",
    "- **String**"
   ]
  },
  {
   "cell_type": "markdown",
   "id": "ca9a6b49",
   "metadata": {},
   "source": [
    "Write a function to find the longest common prefix string amongst an array of strings.\n",
    "\n",
    "If there is no common prefix, return an empty string `\"\"`.\n",
    "\n",
    "> Example:  \n",
    "Input: `strs = [\"flower\",\"flow\",\"flight\"]`  \n",
    "Output: `\"fl\"`\n"
   ]
  },
  {
   "cell_type": "markdown",
   "id": "cf11f320",
   "metadata": {},
   "source": [
    "### T = O(n) , S = O(1)"
   ]
  },
  {
   "cell_type": "code",
   "execution_count": 2,
   "id": "95415d38",
   "metadata": {},
   "outputs": [],
   "source": [
    "from typing import List\n",
    "\n",
    "class Solution:\n",
    "    def longestCommonPrefix(self, strs: List[str]) -> str:\n",
    "        \"\"\"\n",
    "        :type strs: List[str]\n",
    "        :rtype: str\n",
    "        \"\"\"\n",
    "        if not strs:\n",
    "            return \"\"\n",
    "        \n",
    "        shortest = min(strs,key=len)              # Shortest string from strs\n",
    "        \n",
    "        for i, ch in enumerate(shortest):         # enumerate - for iterable , i: idx , ch: key\n",
    "            for rest in strs:                     # string other than shortest \n",
    "                if rest[i] != ch:                 # 1st alphabet of rest_1 =/= shortest\n",
    "                    return shortest[:i] \n",
    "\n",
    "        return shortest\n"
   ]
  },
  {
   "cell_type": "code",
   "execution_count": 36,
   "id": "c3c5c427",
   "metadata": {},
   "outputs": [
    {
     "data": {
      "text/plain": [
       "'fl'"
      ]
     },
     "execution_count": 36,
     "metadata": {},
     "output_type": "execute_result"
    }
   ],
   "source": [
    "Solution.longestCommonPrefix(2, strs = [\"flower\",\"flow\",\"flight\"])"
   ]
  },
  {
   "cell_type": "markdown",
   "id": "df60b6f7",
   "metadata": {},
   "source": [
    "#### Explanation\n",
    "shortest = min(strs,key=len)  \n",
    "= 'flow'\n",
    " \n",
    "<span class=\"mark\">enumurate = (0,\"f\"),(1,\"l\"),(2,\"o\"),(3,\"w\")</span>\n",
    "\n",
    "Step 1: rest = (\"flower\", \"flight\")\n",
    "Step 2: `rest[0] = \"f\" = ch` --- keep  \n",
    "Step 3: `rest[1] = \"l\" = ch` --- keep  \n",
    "Step 4: `rest[2] = \"o\" = ch` --- keep  \n",
    "Step 5: `rest[3] = \"w\" =/= ch` --- drop from this char   \n",
    "<br>\n",
    "repeat for `flight` and get `\"fl\"` \n",
    "\n"
   ]
  },
  {
   "cell_type": "markdown",
   "id": "38c5099d",
   "metadata": {},
   "source": [
    "## <span style=\"color:ForestGreen\">Problem 20: Valid Parentheses</span>\n",
    "- **String**\n",
    "- **Stack**"
   ]
  },
  {
   "cell_type": "markdown",
   "id": "c565a799",
   "metadata": {},
   "source": [
    ">Given a string s containing just the characters `'('`, `')'`, `'{'`, `'}'`, `'['` and `']'`, determine if the input string is valid.\n",
    "\n",
    ">An input string is valid if:  \n",
    "1.Open brackets must be closed by the same type of brackets.  \n",
    "2.Open brackets must be closed in the correct order.\n",
    "\n",
    ">Example:  \n",
    "Input: s = \"(]\"  \n",
    "Output: false"
   ]
  },
  {
   "cell_type": "markdown",
   "id": "86026d4e",
   "metadata": {},
   "source": [
    "### T = O(1) , S = O(n)"
   ]
  },
  {
   "cell_type": "code",
   "execution_count": 7,
   "id": "72e6d4a5",
   "metadata": {},
   "outputs": [],
   "source": [
    "class Solution:\n",
    "    def isValid1(self, s: str) -> bool:\n",
    "        \"\"\"\n",
    "        :type s: str\n",
    "        :rtype: bool\n",
    "        \"\"\"\n",
    "        stack = []\n",
    "        #      keys:values   \n",
    "        dict = {\"]\":\"[\" ,\n",
    "                \"}\":\"{\",\n",
    "                \")\":\"(\" }\n",
    "        \n",
    "        for char in s:\n",
    "            if char in dict.values():\n",
    "                stack.append(char)                              # store to be remembered\n",
    "            \n",
    "            elif char in dict.keys():\n",
    "                if stack == [] or dict[char] != stack.pop():    # .pop() = remove the top\n",
    "                    return False\n",
    "            else:\n",
    "                return False\n",
    "        return stack == []"
   ]
  },
  {
   "cell_type": "code",
   "execution_count": 8,
   "id": "9002c954",
   "metadata": {},
   "outputs": [
    {
     "data": {
      "text/plain": [
       "True"
      ]
     },
     "execution_count": 8,
     "metadata": {},
     "output_type": "execute_result"
    }
   ],
   "source": [
    "Solution.isValid1(2,s=\"{([])[]}\")          "
   ]
  },
  {
   "cell_type": "markdown",
   "id": "eb8a5ea9",
   "metadata": {},
   "source": [
    "#### Explanation\n",
    "`{([])[]}`\n",
    "Step 1: `stack.append(char)` -- .append() --> `stack = [ '{' , '(' , '['  ]`  \n",
    "Step 2: in dict.keys() -- .pop() --> `stack = [ '{'  ]`  \n",
    "\n",
    "Step 3: `stack.append(char)` -- .append() --> `stack = [ '{' , '['  ]`  \n",
    "Step 4: in dict.keys() -- .pop() --> `stack = [ ]`  \n",
    "\n",
    "Step 5: stack == [ ] -> TRUE"
   ]
  },
  {
   "cell_type": "markdown",
   "id": "3320296c",
   "metadata": {},
   "source": [
    "### T = O(n) , S = O(1)"
   ]
  },
  {
   "cell_type": "code",
   "execution_count": 16,
   "id": "1134543e",
   "metadata": {},
   "outputs": [],
   "source": [
    "class Solution:\n",
    "    def isValid2(self, s: str) -> bool:\n",
    "        \"\"\"\n",
    "        :type s: str\n",
    "        :rtype: bool\n",
    "        \"\"\"\n",
    "        n = len(s)\n",
    "        if n == 0:\n",
    "            return True\n",
    "        \n",
    "        if n % 2 != 0:                          # len(s) = odd \n",
    "            return False\n",
    "            \n",
    "        while '()' in s or '{}' in s or '[]' in s:            # replace all valid with space\n",
    "            s = s.replace('{}','').replace('()','').replace('[]','')\n",
    "        \n",
    "        if s == '':                             # space = clear & valid\n",
    "            return True\n",
    "        else:\n",
    "            return False"
   ]
  },
  {
   "cell_type": "code",
   "execution_count": 17,
   "id": "b0dad32d",
   "metadata": {
    "scrolled": false
   },
   "outputs": [
    {
     "data": {
      "text/plain": [
       "True"
      ]
     },
     "execution_count": 17,
     "metadata": {},
     "output_type": "execute_result"
    }
   ],
   "source": [
    "Solution.isValid2(2, s=\"{([][])}\")"
   ]
  },
  {
   "cell_type": "markdown",
   "id": "c2307751",
   "metadata": {},
   "source": [
    "## <span class=\"mark\">*Problem 21:  Merge Two Sorted Lists</span>\n",
    "- **Linked List**\n",
    "- **Recursion**\n",
    "---\n",
    "<font size = \"2.9\">*Solutions from Leedcode Discussion & Github -> error in `.val` of list*</font>"
   ]
  },
  {
   "cell_type": "markdown",
   "id": "a3f85c49",
   "metadata": {},
   "source": [
    ">You are given the heads of two sorted linked lists list1 and list2.\n",
    "\n",
    ">Merge the two lists in a one sorted list. The list should be made by splicing together the nodes of the first two lists.\n",
    "\n",
    ">Return the head of the merged linked list.\n",
    "\n",
    ">Example:  \n",
    "Input: list1 = [1,2,4], list2 = [1,3,4]  \n",
    "Output: [1,1,2,3,4,4]"
   ]
  },
  {
   "cell_type": "markdown",
   "id": "857e108c",
   "metadata": {},
   "source": [
    "### T = O(1) , S = O(n)"
   ]
  },
  {
   "cell_type": "code",
   "execution_count": 18,
   "id": "b0fc1df5",
   "metadata": {},
   "outputs": [],
   "source": [
    "class Solution:\n",
    "    def mergeTwoLists(self, list1, list2):\n",
    "        res = sorted(list1 + list2)\n",
    "        return res"
   ]
  },
  {
   "cell_type": "code",
   "execution_count": 19,
   "id": "fea2f3b9",
   "metadata": {},
   "outputs": [
    {
     "data": {
      "text/plain": [
       "[]"
      ]
     },
     "execution_count": 19,
     "metadata": {},
     "output_type": "execute_result"
    }
   ],
   "source": [
    "Solution.mergeTwoLists(2,list1 =[],list2= [])"
   ]
  },
  {
   "cell_type": "markdown",
   "id": "84c3bfdd",
   "metadata": {},
   "source": [
    "### T = O(n) , S = O(n)"
   ]
  },
  {
   "cell_type": "code",
   "execution_count": 20,
   "id": "b4ca62aa",
   "metadata": {},
   "outputs": [],
   "source": [
    "class Solution:\n",
    "    def mergeTwoLists(self, l1, l2):\n",
    "        l1.extend(l2)\n",
    "        res = sorted(l1)\n",
    "        return res"
   ]
  },
  {
   "cell_type": "code",
   "execution_count": 21,
   "id": "fe4699ae",
   "metadata": {},
   "outputs": [
    {
     "data": {
      "text/plain": [
       "[1, 2, 3, 4, 5, 11]"
      ]
     },
     "execution_count": 21,
     "metadata": {},
     "output_type": "execute_result"
    }
   ],
   "source": [
    "Solution.mergeTwoLists(2,l1 =[1,2,5],l2= [11,4,3])"
   ]
  },
  {
   "cell_type": "markdown",
   "id": "02a9c97d",
   "metadata": {},
   "source": [
    "## <span style=\"color:ForestGreen\">Problem 26: Remove Duplicates From Sorted Arrays</span>\n",
    "- **Array**\n",
    "- **Two Pointers**"
   ]
  },
  {
   "cell_type": "markdown",
   "id": "61e6db45",
   "metadata": {},
   "source": [
    ">Given an integer array nums sorted in **non-decreasing order**, remove the duplicates in-place such that each unique element appears only **once**. The **relative order** of the elements should be kept the **same**.\n",
    "\n",
    ">Since it is impossible to change the length of the array in some languages, you must instead have the result be placed in the first part of the array nums. More formally, if there are k elements after removing the duplicates, then the first k elements of nums should hold the final result. It does not matter what you leave beyond the first k elements.\n",
    "\n",
    ">Return `k` after placing the final result in the first `k` slots of `nums`.\n",
    "\n",
    ">Do **not** allocate extra space for another array. You must do this by **modifying the input array** in-place with O(1) extra memory.\n",
    "\n",
    ">**Custom Judge:**  \n",
    "The judge will test your solution with the following code:\n",
    "\n",
    "<br>\n",
    "\n",
    "~~~ json\n",
    "int[ ] nums = [...]; // Input array  \n",
    "int[ ] expectedNums = [...]; // The expected answer with correct length  \n",
    "\n",
    "int k = removeDuplicates(nums); // Calls your implementation  \n",
    "\n",
    "assert k == expectedNums.length;  \n",
    "for (int i = 0; i < k; i++) {\n",
    "    assert nums[i] == expectedNums[i]}\n",
    "~~~\n",
    "\n",
    "<br>\n",
    "\n",
    ">If all assertions pass, then your solution will be **accepted**.\n",
    "\n",
    ">Example:  \n",
    "Input: `nums = [1,1,2]`  \n",
    "Output: `2, nums = [1,2,_]`  \n",
    "Explanation: Your function should return k = 2, with the first two elements of nums being 1 and 2 respectively.  \n",
    "It does not matter what you leave beyond the returned k (hence they are underscores)."
   ]
  },
  {
   "cell_type": "markdown",
   "id": "c959650a",
   "metadata": {},
   "source": [
    "### T = O(n) , S = O(n)"
   ]
  },
  {
   "cell_type": "code",
   "execution_count": 22,
   "id": "5d677d08",
   "metadata": {},
   "outputs": [],
   "source": [
    "class Solution:\n",
    "    def removeDuplicates(self, nums):\n",
    "        \"\"\"\n",
    "        :type num: list\n",
    "        :rtype: int  \n",
    "        \"\"\"\n",
    "        if not nums:                             # if nums is empty or none\n",
    "            return  \n",
    "        \n",
    "        newTail = 0                              # --- # of time the code recurve\n",
    "\n",
    "        for i in range(1, len(nums)):\n",
    "            if nums[i] != nums[newTail]:         # i th =/= i+1 th --- equivalate 2 \n",
    "                newTail += 1\n",
    "                nums[newTail] = nums[i]\n",
    "\n",
    "        print(newTail + 1 , ', nums = ', nums) \n",
    "        "
   ]
  },
  {
   "cell_type": "code",
   "execution_count": 23,
   "id": "42803589",
   "metadata": {},
   "outputs": [
    {
     "name": "stdout",
     "output_type": "stream",
     "text": [
      "2 , nums =  [1, 2, 2]\n"
     ]
    }
   ],
   "source": [
    "Solution.removeDuplicates(2,nums=[1,1,2])"
   ]
  },
  {
   "cell_type": "markdown",
   "id": "6944982e",
   "metadata": {},
   "source": [
    "Push every item in the list to the front (with no duplicate)  \n",
    "Everything at the back does not matter."
   ]
  },
  {
   "cell_type": "markdown",
   "id": "50ebd97c",
   "metadata": {},
   "source": [
    "## <span style=\"color: ForestGreen\">Problem 27: Remove Element</span> \n",
    "- **Arrays**\n",
    "- **Two Pointers**"
   ]
  },
  {
   "cell_type": "markdown",
   "id": "5f8b98a7",
   "metadata": {},
   "source": [
    " >Given an integer array `nums` and an integer `val`, remove all occurrences of `val` in `nums` in-place. The relative order of the elements may be changed.\n",
    "\n",
    ">Since it is impossible to change the length of the array in some languages, you must instead have the result be placed in the **first part** of the array `nums`. More formally, if there are `k` elements after removing the duplicates, then the first `k` elements of `nums` should hold the final result. It does not matter what you leave beyond the first `k` elements.\n",
    "\n",
    ">Return `k` after placing the final result in the first `k` slots of `nums`.\n",
    "\n",
    ">Do **not** allocate extra space for another array. You must do this by **modifying the input array in-place** with O(1) extra memory.\n",
    "\n",
    ">**Custom Judge:**  \n",
    "The judge will test your solution with the following code:\n",
    "\n",
    "<br>\n",
    "\n",
    "~~~ json\n",
    "int[] nums = [...]; // Input array\n",
    "int val = ...; // Value to remove\n",
    "int[] expectedNums = [...]; // The expected answer with correct length.\n",
    "                            // It is sorted with no values equaling val.\n",
    "\n",
    "int k = removeElement(nums, val); // Calls your implementation\n",
    "\n",
    "assert k == expectedNums.length;\n",
    "sort(nums, 0, k); // Sort the first k elements of nums\n",
    "for (int i = 0; i < actualLength; i++) {\n",
    "    assert nums[i] == expectedNums[i];}\n",
    "~~~\n",
    "\n",
    "<br>\n",
    "\n",
    ">If all assertions pass, then your solution will be **accepted**.\n",
    "\n",
    ">Example:  \n",
    "Input: `nums = [3,2,2,3], val = 3`  \n",
    "Output: `2, nums = [2,2,_,_]`  \n",
    "Explanation: Your function should return k = 2, with the first two elements of nums being 2.  \n",
    "It does not matter what you leave beyond the returned k (hence they are underscores)."
   ]
  },
  {
   "cell_type": "markdown",
   "id": "d78ba5d1",
   "metadata": {},
   "source": [
    "### T = O(n) , S = O(n)"
   ]
  },
  {
   "cell_type": "code",
   "execution_count": 24,
   "id": "d537f196",
   "metadata": {},
   "outputs": [],
   "source": [
    "class Solution:\n",
    "    def removeElement(self, nums, val):\n",
    "        \"\"\"\n",
    "        :type s:list, int\n",
    "        :rtype: int\n",
    "        \"\"\"\n",
    "        x = 0                           #--- # of time the code loop \n",
    "        for i in nums:\n",
    "            if i != val:\n",
    "                nums[x] = i\n",
    "                x += 1\n",
    "        print(x,', nums = ',nums)\n",
    "        \n",
    "        "
   ]
  },
  {
   "cell_type": "code",
   "execution_count": 25,
   "id": "abc30d94",
   "metadata": {},
   "outputs": [
    {
     "name": "stdout",
     "output_type": "stream",
     "text": [
      "1 , nums =  [8, 8, 3]\n"
     ]
    }
   ],
   "source": [
    "Solution.removeElement(2,nums = [3,8,3], val = 3)"
   ]
  },
  {
   "cell_type": "markdown",
   "id": "53e439af",
   "metadata": {},
   "source": [
    "#### Explanation:\n",
    "x = 0  \n",
    "Step 1: `nums[0]` = 3 = `val`  \n",
    "Step 2: `nums[1]` = 8 !=3 , nums[1] = 3 , x += 1 = 2  \n",
    "Step 3: `nums[2]` = 3  \n",
    "\n",
    "--> nums = # of time run = 2"
   ]
  },
  {
   "cell_type": "markdown",
   "id": "d209b64a",
   "metadata": {},
   "source": [
    "## <span style=\"color:ForestGreen\">Problem 28 : Inplement strStr()</span>\n",
    "- **Two Pointers**\n",
    "- **String**\n",
    "- **String Matching**"
   ]
  },
  {
   "cell_type": "markdown",
   "id": "5ec077b8",
   "metadata": {},
   "source": [
    ">Implement `strStr()`.  \n",
    "\n",
    ">Return the index of the first occurrence of needle in haystack, or `-1` if needle is not part of `haystack`.  \n",
    "\n",
    ">**Clarification**:  \n",
    "What should we return when needle is an empty string? This is a great question to ask during an interview.\n",
    "\n",
    ">For the purpose of this problem, we will return 0 when `needle` is an empty string. This is consistent to C's `strstr()` and Java's `indexOf()`.\n",
    "\n",
    ">Example:  \n",
    "Input: haystack = \"hello\", needle = \"ll\"  \n",
    "Output: 2"
   ]
  },
  {
   "cell_type": "markdown",
   "id": "89f59e27",
   "metadata": {},
   "source": [
    "### T = O(n) , S = O(1)"
   ]
  },
  {
   "cell_type": "code",
   "execution_count": 26,
   "id": "2cf5cf9a",
   "metadata": {},
   "outputs": [],
   "source": [
    "class Solution:\n",
    "    def strStr(self, haystack: str, needle: str) -> int:\n",
    "        \"\"\"\n",
    "        :type s: str\n",
    "        :rtype: int\n",
    "        \"\"\"   \n",
    "        for i in range(0, len(haystack) - len(needle) + 1):\n",
    "            if haystack[i:i+len(needle)] == needle:\n",
    "                return i\n",
    "        return -1"
   ]
  },
  {
   "cell_type": "code",
   "execution_count": 27,
   "id": "55990c1e",
   "metadata": {},
   "outputs": [
    {
     "data": {
      "text/plain": [
       "2"
      ]
     },
     "execution_count": 27,
     "metadata": {},
     "output_type": "execute_result"
    }
   ],
   "source": [
    "Solution.strStr(1,haystack = \"hello\", needle = \"ll\")"
   ]
  },
  {
   "cell_type": "markdown",
   "id": "e8dcd870",
   "metadata": {},
   "source": [
    "#### Explanation:\n",
    "len(haystack)-len(needle)+1 = 5-2+1 = 4  \n",
    "haystuck[0:0+2] != needle\n",
    "<br>\n",
    "\n",
    "haystuck[1:1+2] != needle  \n",
    "haystuck[2:2+2] == needle --> return 2  "
   ]
  },
  {
   "cell_type": "markdown",
   "id": "bd80c90f",
   "metadata": {},
   "source": [
    "## <span style=\"color:ForestGreen\">Problem 35: Search Insert Position</span>\n",
    "- **Array**\n",
    "- **Binary Search**"
   ]
  },
  {
   "cell_type": "markdown",
   "id": "105e68e0",
   "metadata": {},
   "source": [
    ">Given a sorted array of distinct integers and a target value, return the index if the target is found. If not, return the index where it would be if it were inserted in order.\n",
    "\n",
    "><mark style=\"background-color:skyblue;\">You must write an algorithm with `O(log n)` runtime complexity.</mark>\n",
    "\n",
    ">Example:  \n",
    "Input: nums = [1,3,5,6], target = 5  \n",
    "Output: 2\n",
    "\n",
    ">Example:  \n",
    "Input: nums = [1,3,5,6], target = 2  \n",
    "Output: 1"
   ]
  },
  {
   "cell_type": "markdown",
   "id": "e01c0b20",
   "metadata": {},
   "source": [
    "### T = O(log n) , S = O(log n)"
   ]
  },
  {
   "cell_type": "code",
   "execution_count": 52,
   "id": "ef314927",
   "metadata": {},
   "outputs": [],
   "source": [
    "from typing import List\n",
    "def searchInsert(self, nums: List[int], target: int) -> int:\n",
    "    '''\n",
    "    :type s: list, int\n",
    "    :rtype: int\n",
    "    ''' \n",
    "    if target in nums:\n",
    "        return nums.index(target)\n",
    "    \n",
    "    lo, hi = 0, len(nums)-1\n",
    "    \n",
    "    while lo<=hi:                        # break at lo > hi (avoid inf loop)\n",
    "        mid = (lo+hi)//2                 # lower mid\n",
    "        \n",
    "        if nums[mid] < target:           # < tar\n",
    "            lo = mid+1\n",
    "            \n",
    "        else:\n",
    "            if nums[mid]== target:       # == tar \n",
    "                return mid\n",
    "            \n",
    "            else:                        # > tar\n",
    "                hi = mid-1\n",
    "    return lo"
   ]
  },
  {
   "cell_type": "code",
   "execution_count": 53,
   "id": "44c9fc65",
   "metadata": {},
   "outputs": [
    {
     "data": {
      "text/plain": [
       "4"
      ]
     },
     "execution_count": 53,
     "metadata": {},
     "output_type": "execute_result"
    }
   ],
   "source": [
    "searchInsert(1,nums = [1,3,3,3,7,7,7], target = 6)"
   ]
  },
  {
   "cell_type": "markdown",
   "id": "0379339a",
   "metadata": {},
   "source": [
    "#### Explanation\n",
    "length = 6\n",
    "`lo = 0th , hi = 6-1 = 5th`  \n",
    "mid = 5//2 = 2nd idx = 3  \n",
    "\n",
    "- 1st loop  \n",
    "`nums[2] = 3 < 6`  \n",
    "lo = 3th , hi = 5th  \n",
    "<br>\n",
    "\n",
    "- 2nd loop  \n",
    "`nums[3]=3 < 6`  \n",
    "lo = 4th , hi = 5th  \n",
    "<br>\n",
    "\n",
    "- 3rd loop  \n",
    "`nums[4]=7 > 6`  \n",
    "<br>\n",
    "\n",
    "loop breaks: `return mid = 4`  "
   ]
  },
  {
   "cell_type": "markdown",
   "id": "75252c78",
   "metadata": {},
   "source": [
    " "
   ]
  },
  {
   "cell_type": "markdown",
   "id": "70c73994",
   "metadata": {},
   "source": [
    "## 58:<span style=\"color:ForestGreen\"> Length of Last Word </span>\n",
    "- **String**\n"
   ]
  },
  {
   "cell_type": "markdown",
   "id": "fa3e0a66",
   "metadata": {},
   "source": [
    ">Given a string s consisting of some words separated by some number of spaces, return the length of the **last** word in the string.\n",
    "\n",
    ">A **word** is a maximal substring consisting of non-space characters only.\n",
    "\n",
    ">Example:  \n",
    "Input: s = \"Hello World\"  \n",
    "Output: 5  \n",
    "Explanation: The last word is \"World\" with length 5."
   ]
  },
  {
   "cell_type": "markdown",
   "id": "f71a43fc",
   "metadata": {},
   "source": [
    "### T = O(1) , S = O(n)"
   ]
  },
  {
   "cell_type": "code",
   "execution_count": 40,
   "id": "80dea5d3",
   "metadata": {},
   "outputs": [],
   "source": [
    "def lengthOfLastWord(self, s: str) -> int:\n",
    "    '''\n",
    "    :type s:str\n",
    "    :r type:int\n",
    "    '''\n",
    "    words = s.split()\n",
    "\n",
    "    if not words:\n",
    "        return 0\n",
    "\n",
    "    else:\n",
    "        last = words[-1]\n",
    "        return len(last)"
   ]
  },
  {
   "cell_type": "code",
   "execution_count": 43,
   "id": "27cf91cd",
   "metadata": {},
   "outputs": [
    {
     "data": {
      "text/plain": [
       "5"
      ]
     },
     "execution_count": 43,
     "metadata": {},
     "output_type": "execute_result"
    }
   ],
   "source": [
    "lengthOfLastWord(1,s=\" Hello   World\")"
   ]
  },
  {
   "cell_type": "markdown",
   "id": "cd89c0c1",
   "metadata": {},
   "source": [
    "## <span style=\"color:ForestGreen\">66: Plus One </span>\n",
    "- **Array**\n",
    "- **Math**"
   ]
  },
  {
   "cell_type": "markdown",
   "id": "03d86462",
   "metadata": {},
   "source": [
    ">You are given a **large intege**r represented as an integer array digits, where each `digits[i]` is the `ith` digit of the integer. The digits are ordered from most significant to least significant in left-to-right order. The large integer does not contain any leading `0`'s.\n",
    "\n",
    ">*Increment the large integer by one and return the resulting array of digits.*\n",
    "\n",
    ">Example:  \n",
    "Input: digits = `[1,2,3]`  \n",
    "Output: `[1,2,4]`  \n",
    "Explanation: The array represents the integer 123.  \n",
    "Incrementing by one gives 123 + 1 = 124.  \n",
    "Thus, the result should be `[1,2,4]`.  \n",
    "\n",
    ">Example:  \n",
    "Input: digits = `[9]`  \n",
    "Output: `[1,0]`  \n",
    "Explanation: The array represents the integer 9.  \n",
    "Incrementing by one gives 9 + 1 = 10.  \n",
    "Thus, the result should be `[1,0]`.  "
   ]
  },
  {
   "cell_type": "markdown",
   "id": "a5c3b7f7",
   "metadata": {},
   "source": [
    "### T = O(n)"
   ]
  },
  {
   "cell_type": "code",
   "execution_count": 34,
   "id": "f92f25de",
   "metadata": {},
   "outputs": [],
   "source": [
    "from typing import List\n",
    "def plusOne(self, digits):\n",
    "    '''\n",
    "    :type s: List[int]\n",
    "    :r type: List[int]\n",
    "    '''\n",
    "    length = len(digits) - 1                # last index\n",
    "    \n",
    "    while digits[length] == 9:\n",
    "        digits[length] = 0\n",
    "        length -= 1\n",
    "        \n",
    "    if(length < 0):\n",
    "        digits = [1] + digits\n",
    "        \n",
    "    else:\n",
    "        digits[length] += 1\n",
    "    return digits"
   ]
  },
  {
   "cell_type": "code",
   "execution_count": 42,
   "id": "f3d91d65",
   "metadata": {},
   "outputs": [
    {
     "data": {
      "text/plain": [
       "[1, 9, 11]"
      ]
     },
     "execution_count": 42,
     "metadata": {},
     "output_type": "execute_result"
    }
   ],
   "source": [
    "plusOne(1,digits = [1,9,9])"
   ]
  },
  {
   "cell_type": "markdown",
   "id": "bf831c2d",
   "metadata": {},
   "source": [
    "#### Explanation:\n",
    "length = 3-1 = 2  \n",
    "`digits[2] == 9`  ---> `digits[2] = 0` , `length = 1`  \n",
    "`digits[1] = 9`\n",
    "<br>\n",
    "\n",
    "`length < 0`  --- single digit  \n",
    "return: `[1]` +  original `List[int]` --- add next index place"
   ]
  },
  {
   "cell_type": "markdown",
   "id": "49a749ae",
   "metadata": {},
   "source": [
    "## <span style=\"color:ForestGreen\">67: Add Binary </span>\n",
    "- **Math**\n",
    "- **String**\n",
    "- **Bit Manipulation**\n",
    "- **Simulation**"
   ]
  },
  {
   "cell_type": "code",
   "execution_count": 46,
   "id": "32b45c38",
   "metadata": {},
   "outputs": [],
   "source": [
    "def addBinary(self,a,b):\n",
    "    '''\n",
    "    :type s: str\n",
    "    :r typr: str\n",
    "    '''\n",
    "    while a != [0,1]:\n",
    "        remainder = a % 2\n",
    "        a // 2\n",
    "    return a\n",
    "    \n",
    "    while b!= [0,1]:\n",
    "        re = b%2\n",
    "        b//2\n",
    "    return b\n",
    "    \n",
    "    print(a+b)"
   ]
  },
  {
   "cell_type": "code",
   "execution_count": null,
   "id": "d398b4ee",
   "metadata": {},
   "outputs": [],
   "source": [
    "addBinary(1,\"11\",\"1\")"
   ]
  },
  {
   "cell_type": "code",
   "execution_count": null,
   "id": "57813538",
   "metadata": {},
   "outputs": [],
   "source": []
  }
 ],
 "metadata": {
  "kernelspec": {
   "display_name": "myenv",
   "language": "python",
   "name": "myenv"
  },
  "language_info": {
   "codemirror_mode": {
    "name": "ipython",
    "version": 3
   },
   "file_extension": ".py",
   "mimetype": "text/x-python",
   "name": "python",
   "nbconvert_exporter": "python",
   "pygments_lexer": "ipython3",
   "version": "3.8.8"
  },
  "toc": {
   "base_numbering": 1,
   "nav_menu": {},
   "number_sections": true,
   "sideBar": true,
   "skip_h1_title": true,
   "title_cell": "Table of Contents",
   "title_sidebar": "Contents",
   "toc_cell": true,
   "toc_position": {
    "height": "calc(100% - 180px)",
    "left": "10px",
    "top": "150px",
    "width": "231.004px"
   },
   "toc_section_display": false,
   "toc_window_display": true
  },
  "varInspector": {
   "cols": {
    "lenName": 16,
    "lenType": 16,
    "lenVar": 40
   },
   "kernels_config": {
    "python": {
     "delete_cmd_postfix": "",
     "delete_cmd_prefix": "del ",
     "library": "var_list.py",
     "varRefreshCmd": "print(var_dic_list())"
    },
    "r": {
     "delete_cmd_postfix": ") ",
     "delete_cmd_prefix": "rm(",
     "library": "var_list.r",
     "varRefreshCmd": "cat(var_dic_list()) "
    }
   },
   "position": {
    "height": "306.856px",
    "left": "532.633px",
    "right": "20px",
    "top": "43.9962px",
    "width": "450px"
   },
   "types_to_exclude": [
    "module",
    "function",
    "builtin_function_or_method",
    "instance",
    "_Feature"
   ],
   "window_display": false
  }
 },
 "nbformat": 4,
 "nbformat_minor": 5
}
